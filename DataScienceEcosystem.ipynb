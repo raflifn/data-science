{
 "cells": [
  {
   "cell_type": "markdown",
   "id": "5de3b221",
   "metadata": {},
   "source": [
    "Data Science Tools and Ecosystem"
   ]
  },
  {
   "cell_type": "markdown",
   "id": "7471ecb7",
   "metadata": {},
   "source": [
    "In this notebook, Data Science Tools and Ecosystem are summarized.\n",
    "Objectives: Popular Languages, DS Libraries, and DS Tools."
   ]
  },
  {
   "cell_type": "markdown",
   "id": "dafd8c7b",
   "metadata": {},
   "source": [
    "Some of the popular languages that Data Scientists use are:\n",
    "- Python\n",
    "- R\n",
    "- Julia"
   ]
  },
  {
   "cell_type": "markdown",
   "id": "0a275935",
   "metadata": {},
   "source": [
    "Data Science Libraries\n",
    "- ggplot2\n",
    "- caret\n",
    "- dplyr"
   ]
  },
  {
   "cell_type": "markdown",
   "id": "aedbe324",
   "metadata": {},
   "source": [
    "Data Science Tools:\n",
    "- Jupyter\n",
    "- RStudio\n",
    "- Github"
   ]
  },
  {
   "cell_type": "markdown",
   "id": "fa363559",
   "metadata": {},
   "source": [
    "Below are a few examples of evaluating arithmetic expressions in Python"
   ]
  },
  {
   "cell_type": "code",
   "execution_count": 2,
   "id": "da566d81",
   "metadata": {},
   "outputs": [
    {
     "data": {
      "text/plain": [
       "17"
      ]
     },
     "execution_count": 2,
     "metadata": {},
     "output_type": "execute_result"
    }
   ],
   "source": [
    "#This a simple arithmetic expression to mutiply then add integers\n",
    "(3*4)+5"
   ]
  },
  {
   "cell_type": "code",
   "execution_count": 4,
   "id": "fbdf0d99",
   "metadata": {},
   "outputs": [
    {
     "name": "stdout",
     "output_type": "stream",
     "text": [
      "3.3333333333333335\n"
     ]
    }
   ],
   "source": [
    "hours = 200 / 60\n",
    "print(hours)"
   ]
  },
  {
   "cell_type": "markdown",
   "id": "0b2a9aab",
   "metadata": {},
   "source": [
    "AUTHOR"
   ]
  },
  {
   "cell_type": "markdown",
   "id": "b512de89",
   "metadata": {},
   "source": [
    "Rafli Farhan Naji"
   ]
  },
  {
   "cell_type": "markdown",
   "id": "6ca6ea1c",
   "metadata": {},
   "source": []
  }
 ],
 "metadata": {
  "kernelspec": {
   "display_name": "Python 3",
   "language": "python",
   "name": "python3"
  },
  "language_info": {
   "codemirror_mode": {
    "name": "ipython",
    "version": 3
   },
   "file_extension": ".py",
   "mimetype": "text/x-python",
   "name": "python",
   "nbconvert_exporter": "python",
   "pygments_lexer": "ipython3",
   "version": "3.13.7"
  }
 },
 "nbformat": 4,
 "nbformat_minor": 5
}
